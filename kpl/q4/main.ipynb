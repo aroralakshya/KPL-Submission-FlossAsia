{
 "cells": [
  {
   "cell_type": "code",
   "execution_count": 77,
   "metadata": {},
   "outputs": [],
   "source": [
    "# all imports below\n",
    "from datetime import datetime\n",
    "from datetime import timedelta\n",
    "from astropy.coordinates import EarthLocation, SkyCoord, solar_system_ephemeris, get_body, get_body_barycentric\n",
    "import astropy.units as u\n",
    "from astropy.coordinates import AltAz\n",
    "from astropy.time import Time\n",
    "\n",
    "#setting the reference location\n",
    "observing_location = EarthLocation(lat=\"31.781216\",lon=\"76.994217\", height=1000*u.m)\n",
    "\n",
    "\n",
    "#finding the AltAz positoin of saturn at time t\n",
    "def position_of_saturn(t,Earth_wise_location):\n",
    "    reference = AltAz(location=Earth_wise_location)\n",
    "    with solar_system_ephemeris.set('builtin'):\n",
    "        saturn = get_body('saturn', Time(t), Earth_wise_location)\n",
    "    return saturn.transform_to(reference)\n",
    "        \n",
    "#finding the startobs\n",
    "#---t is initial time---\n",
    "def start_time(t, minimum_alt, earth_wise_location):\n",
    "    coord = position_of_saturn(t, earth_wise_location)\n",
    "    while(coord.alt.deg<minimum_alt):\n",
    "        t = t+timedelta(seconds=1)\n",
    "        coord=position_of_saturn(t, earth_wise_location)\n",
    "        print(coord.alt.deg)\n",
    "    return t\n",
    "\n",
    "def end_time(t, minimum_alt, earth_wise_location):\n",
    "    coord = position_of_saturn(t, earth_wise_location)\n",
    "    while(coord.alt.deg>minimum_alt):\n",
    "        t = t+timedelta(seconds=1)\n",
    "        coord=position_of_saturn(t, earth_wise_location)\n",
    "        print(coord.alt.deg)\n",
    "    return t-timedelta(seconds=1)\n",
    "    \n",
    "#to find use startobs = start_time(datetime(2020, 6, 8, 18, 35, 0), 20, observing_location)\n",
    "startobs = datetime(2020, 6, 8, 18, 39, 21)#time when saturn will become first visible\n",
    "\n",
    "# to find run endobs = end_time(datetime(2020,6,9,1,0,0),20,observing_location)\n",
    "endobs = datetime(2020, 6, 9, 1, 11, 25) #time when Saturn is no longer visible from SAC terrace\n",
    "\n",
    "def findSaturn(obstime):\n",
    "    '''\n",
    "    Parameters\n",
    "    ----------\n",
    "    obstime : A `~datetime.datetime` instance.\n",
    "    \n",
    "    Returns\n",
    "    -------\n",
    "    A `tuple` of two floats.\n",
    "    '''\n",
    "    \n",
    "    coord = position_of_saturn(obstime,observing_location)\n",
    "    return tuple((coord.alt.deg, coord.az.deg))"
   ]
  }
 ],
 "metadata": {
  "kernelspec": {
   "display_name": "Python 3",
   "language": "python",
   "name": "python3"
  },
  "language_info": {
   "codemirror_mode": {
    "name": "ipython",
    "version": 3
   },
   "file_extension": ".py",
   "mimetype": "text/x-python",
   "name": "python",
   "nbconvert_exporter": "python",
   "pygments_lexer": "ipython3",
   "version": "3.8.3"
  }
 },
 "nbformat": 4,
 "nbformat_minor": 4
}
