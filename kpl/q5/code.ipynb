{
 "cells": [
  {
   "cell_type": "code",
   "execution_count": 48,
   "metadata": {},
   "outputs": [
    {
     "data": {
      "text/plain": [
       "[]"
      ]
     },
     "execution_count": 48,
     "metadata": {},
     "output_type": "execute_result"
    }
   ],
   "source": [
    "# all imports below\n",
    "\n",
    "import requests\n",
    "from bs4 import BeautifulSoup\n",
    "from datetime import datetime\n",
    "\n",
    "class ScraperXRT:\n",
    "    def __init__(self, typeof_file, startime, endtime):\n",
    "        self.startime=startime\n",
    "        self.endtime=endtime\n",
    "        self.URL = 'http://solar.physics.montana.edu/HINODE/XRT/QL/syn_comp_fits/'\n",
    "        self.pageResponse = requests.get(self.URL)\n",
    "        self.bsParser = BeautifulSoup(self.pageResponse.content, 'html.parser')\n",
    "        self.trElements = self.bsParser.find_all('tr')\n",
    "        self.aElements = self.bsParser.find_all('a')[5:]\n",
    "        self.type_of_file = typeof_file\n",
    "\n",
    "    def query(self):\n",
    "#         start_date = self.startime.strftime('%Y%m%d')\n",
    "#         end_date = self.endtime.strftime('%Y%m%d')\n",
    "#         start_time = self.starttime.strftime('%H%M%S')\n",
    "#         end_time = self.endtime.strftime('%H%M%S')\n",
    "        query_results=[]\n",
    "        for aElem in self.aElements:\n",
    "            tmp = aElem.text.split('.')[0]\n",
    "            hhmmss = tmp[-6:]\n",
    "            yyyymmdd=tmp[-8-6-1:-6-1]\n",
    "            typ = tmp[4:-8-6-1-1]\n",
    "            date = datetime(int(yyyymmdd[0:4]),int(yyyymmdd[4:6]),int(yyyymmdd[6:8]),int(hhmmss[0:2]),int(hhmmss[2:4]),int(hhmmss[4:6]))\n",
    "            if(self.startime<=date<=self.endtime and self.type_of_file == typ):\n",
    "                query_results.append(aElem.text)\n",
    "        return query_results\n",
    "            \n",
    "\n",
    "\n",
    "    def get(self):\n",
    "        return NotImplementedError\n",
    "\n",
    "    def view(self, filepath):\n",
    "        return NotImplementedError\n",
    "\n",
    "scraper = ScraperXRT('AI_mesh', datetime(2014, 1, 10), datetime(2014, 1, 15))\n",
    "scraper.query()\n",
    "# print(datetime.now())"
   ]
  },
  {
   "cell_type": "code",
   "execution_count": 51,
   "metadata": {},
   "outputs": [],
   "source": [
    "new_scraper = ScraperXRT('C_poly',datetime(2015,5,7,22,29,35), datetime(2015,5,7,22,29,35))"
   ]
  },
  {
   "cell_type": "code",
   "execution_count": 52,
   "metadata": {},
   "outputs": [
    {
     "data": {
      "text/plain": [
       "['XRT_C_poly_20150507_222935.3.fits']"
      ]
     },
     "execution_count": 52,
     "metadata": {},
     "output_type": "execute_result"
    }
   ],
   "source": [
    "new_scraper.query()"
   ]
  }
 ],
 "metadata": {
  "kernelspec": {
   "display_name": "Python 3",
   "language": "python",
   "name": "python3"
  },
  "language_info": {
   "codemirror_mode": {
    "name": "ipython",
    "version": 3
   },
   "file_extension": ".py",
   "mimetype": "text/x-python",
   "name": "python",
   "nbconvert_exporter": "python",
   "pygments_lexer": "ipython3",
   "version": "3.8.3"
  }
 },
 "nbformat": 4,
 "nbformat_minor": 4
}
